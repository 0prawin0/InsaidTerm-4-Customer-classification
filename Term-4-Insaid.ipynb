{
 "cells": [
  {
   "cell_type": "code",
   "execution_count": 1,
   "id": "fe9d90b7",
   "metadata": {
    "ExecuteTime": {
     "end_time": "2022-12-03T06:37:37.564952Z",
     "start_time": "2022-12-03T06:37:35.650633Z"
    },
    "id": "fe9d90b7"
   },
   "outputs": [],
   "source": [
    "import pandas as pd\n",
    "import numpy as np\n",
    "import seaborn as sns\n",
    "import matplotlib.pyplot as plt\n",
    "import pprint\n",
    "from scipy import stats\n",
    "\n",
    "from feature_engine import transformation as vt\n",
    "from sklearn.model_selection import RepeatedStratifiedKFold\n",
    "from sklearn.model_selection import GridSearchCV\n",
    "from sklearn.model_selection import RandomizedSearchCV\n",
    "\n",
    "from pprint import pprint"
   ]
  },
  {
   "cell_type": "code",
   "execution_count": 2,
   "id": "ab819fc2",
   "metadata": {
    "ExecuteTime": {
     "end_time": "2022-12-03T06:37:37.579936Z",
     "start_time": "2022-12-03T06:37:37.566950Z"
    }
   },
   "outputs": [],
   "source": [
    "pd.set_option(\"display.max_columns\",None)"
   ]
  },
  {
   "cell_type": "code",
   "execution_count": 3,
   "id": "c83KZl9WC5Fg",
   "metadata": {
    "ExecuteTime": {
     "end_time": "2022-12-03T06:37:37.642662Z",
     "start_time": "2022-12-03T06:37:37.580954Z"
    },
    "id": "c83KZl9WC5Fg"
   },
   "outputs": [],
   "source": [
    "train_set=pd.read_csv(r'C:\\Users\\Prawin\\Documents\\ML PROJECT\\existing_base_train.csv')"
   ]
  },
  {
   "cell_type": "code",
   "execution_count": 4,
   "id": "5tCiZRfBAhdJ",
   "metadata": {
    "ExecuteTime": {
     "end_time": "2022-12-03T06:37:37.689764Z",
     "start_time": "2022-12-03T06:37:37.644660Z"
    },
    "colab": {
     "base_uri": "https://localhost:8080/",
     "height": 240
    },
    "id": "5tCiZRfBAhdJ",
    "outputId": "6674f6ab-624b-4463-b632-357c57247a63"
   },
   "outputs": [
    {
     "data": {
      "text/html": [
       "<div>\n",
       "<style scoped>\n",
       "    .dataframe tbody tr th:only-of-type {\n",
       "        vertical-align: middle;\n",
       "    }\n",
       "\n",
       "    .dataframe tbody tr th {\n",
       "        vertical-align: top;\n",
       "    }\n",
       "\n",
       "    .dataframe thead th {\n",
       "        text-align: right;\n",
       "    }\n",
       "</style>\n",
       "<table border=\"1\" class=\"dataframe\">\n",
       "  <thead>\n",
       "    <tr style=\"text-align: right;\">\n",
       "      <th></th>\n",
       "      <th>REF_NO</th>\n",
       "      <th>children</th>\n",
       "      <th>age_band</th>\n",
       "      <th>status</th>\n",
       "      <th>occupation</th>\n",
       "      <th>occupation_partner</th>\n",
       "      <th>home_status</th>\n",
       "      <th>family_income</th>\n",
       "      <th>self_employed</th>\n",
       "      <th>self_employed_partner</th>\n",
       "      <th>year_last_moved</th>\n",
       "      <th>TVarea</th>\n",
       "      <th>post_code</th>\n",
       "      <th>post_area</th>\n",
       "      <th>Average_Credit_Card_Transaction</th>\n",
       "      <th>Balance_Transfer</th>\n",
       "      <th>Term_Deposit</th>\n",
       "      <th>Life_Insurance</th>\n",
       "      <th>Medical_Insurance</th>\n",
       "      <th>Average_A/C_Balance</th>\n",
       "      <th>Personal_Loan</th>\n",
       "      <th>Investment_in_Mutual_Fund</th>\n",
       "      <th>Investment_Tax_Saving_Bond</th>\n",
       "      <th>Home_Loan</th>\n",
       "      <th>Online_Purchase_Amount</th>\n",
       "      <th>gender</th>\n",
       "      <th>region</th>\n",
       "      <th>Investment_in_Commudity</th>\n",
       "      <th>Investment_in_Equity</th>\n",
       "      <th>Investment_in_Derivative</th>\n",
       "      <th>Portfolio_Balance</th>\n",
       "      <th>Revenue_Grid</th>\n",
       "    </tr>\n",
       "  </thead>\n",
       "  <tbody>\n",
       "    <tr>\n",
       "      <th>0</th>\n",
       "      <td>5466</td>\n",
       "      <td>2</td>\n",
       "      <td>31-35</td>\n",
       "      <td>Partner</td>\n",
       "      <td>Professional</td>\n",
       "      <td>Professional</td>\n",
       "      <td>Own Home</td>\n",
       "      <td>&gt;=35,000</td>\n",
       "      <td>No</td>\n",
       "      <td>No</td>\n",
       "      <td>1981</td>\n",
       "      <td>Meridian</td>\n",
       "      <td>M51 0GU</td>\n",
       "      <td>M51</td>\n",
       "      <td>26.98</td>\n",
       "      <td>29.99</td>\n",
       "      <td>312.25</td>\n",
       "      <td>299.79</td>\n",
       "      <td>88.72</td>\n",
       "      <td>108.85</td>\n",
       "      <td>175.43</td>\n",
       "      <td>134.35</td>\n",
       "      <td>8.98</td>\n",
       "      <td>55.44</td>\n",
       "      <td>7.68</td>\n",
       "      <td>Female</td>\n",
       "      <td>North West</td>\n",
       "      <td>151.55</td>\n",
       "      <td>81.79</td>\n",
       "      <td>136.02</td>\n",
       "      <td>360.37</td>\n",
       "      <td>2</td>\n",
       "    </tr>\n",
       "    <tr>\n",
       "      <th>1</th>\n",
       "      <td>9091</td>\n",
       "      <td>Zero</td>\n",
       "      <td>45-50</td>\n",
       "      <td>Partner</td>\n",
       "      <td>Secretarial/Admin</td>\n",
       "      <td>Professional</td>\n",
       "      <td>Own Home</td>\n",
       "      <td>&gt;=35,000</td>\n",
       "      <td>No</td>\n",
       "      <td>No</td>\n",
       "      <td>1997</td>\n",
       "      <td>Meridian</td>\n",
       "      <td>L40 2AG</td>\n",
       "      <td>L40</td>\n",
       "      <td>35.98</td>\n",
       "      <td>74.48</td>\n",
       "      <td>0.00</td>\n",
       "      <td>99.96</td>\n",
       "      <td>10.99</td>\n",
       "      <td>48.45</td>\n",
       "      <td>15.99</td>\n",
       "      <td>0.00</td>\n",
       "      <td>0.00</td>\n",
       "      <td>0.00</td>\n",
       "      <td>18.99</td>\n",
       "      <td>Female</td>\n",
       "      <td>North West</td>\n",
       "      <td>44.28</td>\n",
       "      <td>13.91</td>\n",
       "      <td>29.23</td>\n",
       "      <td>89.22</td>\n",
       "      <td>2</td>\n",
       "    </tr>\n",
       "  </tbody>\n",
       "</table>\n",
       "</div>"
      ],
      "text/plain": [
       "   REF_NO children age_band   status         occupation occupation_partner  \\\n",
       "0    5466        2    31-35  Partner       Professional       Professional   \n",
       "1    9091     Zero    45-50  Partner  Secretarial/Admin       Professional   \n",
       "\n",
       "  home_status family_income self_employed self_employed_partner  \\\n",
       "0    Own Home      >=35,000            No                    No   \n",
       "1    Own Home      >=35,000            No                    No   \n",
       "\n",
       "   year_last_moved    TVarea post_code post_area  \\\n",
       "0             1981  Meridian   M51 0GU       M51   \n",
       "1             1997  Meridian   L40 2AG       L40   \n",
       "\n",
       "   Average_Credit_Card_Transaction  Balance_Transfer  Term_Deposit  \\\n",
       "0                            26.98             29.99        312.25   \n",
       "1                            35.98             74.48          0.00   \n",
       "\n",
       "   Life_Insurance  Medical_Insurance  Average_A/C_Balance  Personal_Loan  \\\n",
       "0          299.79              88.72               108.85         175.43   \n",
       "1           99.96              10.99                48.45          15.99   \n",
       "\n",
       "   Investment_in_Mutual_Fund  Investment_Tax_Saving_Bond  Home_Loan  \\\n",
       "0                     134.35                        8.98      55.44   \n",
       "1                       0.00                        0.00       0.00   \n",
       "\n",
       "   Online_Purchase_Amount  gender      region  Investment_in_Commudity  \\\n",
       "0                    7.68  Female  North West                   151.55   \n",
       "1                   18.99  Female  North West                    44.28   \n",
       "\n",
       "   Investment_in_Equity  Investment_in_Derivative  Portfolio_Balance  \\\n",
       "0                 81.79                    136.02             360.37   \n",
       "1                 13.91                     29.23              89.22   \n",
       "\n",
       "   Revenue_Grid  \n",
       "0             2  \n",
       "1             2  "
      ]
     },
     "execution_count": 4,
     "metadata": {},
     "output_type": "execute_result"
    }
   ],
   "source": [
    "train_set.head(2)"
   ]
  },
  {
   "cell_type": "code",
   "execution_count": 5,
   "id": "9b23e8c4",
   "metadata": {
    "ExecuteTime": {
     "end_time": "2022-12-03T06:37:37.704925Z",
     "start_time": "2022-12-03T06:37:37.691774Z"
    },
    "id": "9b23e8c4"
   },
   "outputs": [],
   "source": [
    "y_main=train_set['Revenue_Grid']\n",
    "x_main=train_set.drop(columns=['Revenue_Grid','post_code','REF_NO'])"
   ]
  },
  {
   "cell_type": "markdown",
   "id": "92b3ddd1",
   "metadata": {},
   "source": [
    "# Removing Unknown"
   ]
  },
  {
   "cell_type": "code",
   "execution_count": 6,
   "id": "8699bb27",
   "metadata": {
    "ExecuteTime": {
     "end_time": "2022-12-03T06:37:37.720876Z",
     "start_time": "2022-12-03T06:37:37.707868Z"
    }
   },
   "outputs": [
    {
     "data": {
      "text/plain": [
       "Index(['children', 'age_band', 'status', 'occupation', 'occupation_partner',\n",
       "       'home_status', 'family_income', 'self_employed',\n",
       "       'self_employed_partner', 'year_last_moved', 'TVarea', 'post_area',\n",
       "       'Average_Credit_Card_Transaction', 'Balance_Transfer', 'Term_Deposit',\n",
       "       'Life_Insurance', 'Medical_Insurance', 'Average_A/C_Balance',\n",
       "       'Personal_Loan', 'Investment_in_Mutual_Fund',\n",
       "       'Investment_Tax_Saving_Bond', 'Home_Loan', 'Online_Purchase_Amount',\n",
       "       'gender', 'region', 'Investment_in_Commudity', 'Investment_in_Equity',\n",
       "       'Investment_in_Derivative', 'Portfolio_Balance'],\n",
       "      dtype='object')"
      ]
     },
     "execution_count": 6,
     "metadata": {},
     "output_type": "execute_result"
    }
   ],
   "source": [
    "columns=x_main.columns\n",
    "columns"
   ]
  },
  {
   "cell_type": "code",
   "execution_count": 7,
   "id": "4a9cb55c",
   "metadata": {
    "ExecuteTime": {
     "end_time": "2022-12-03T06:37:37.784184Z",
     "start_time": "2022-12-03T06:37:37.723913Z"
    },
    "colab": {
     "base_uri": "https://localhost:8080/"
    },
    "id": "4a9cb55c",
    "outputId": "b4e677cd-66c5-430f-dcfb-520ba5b5681c"
   },
   "outputs": [
    {
     "name": "stdout",
     "output_type": "stream",
     "text": [
      "Column is: age_band\n",
      "44\n",
      "Column is: status\n",
      "40\n",
      "Column is: occupation\n",
      "449\n",
      "Column is: occupation_partner\n",
      "1942\n",
      "Column is: family_income\n",
      "108\n",
      "Column is: TVarea\n",
      "154\n",
      "Column is: gender\n",
      "31\n",
      "Column is: region\n",
      "866\n"
     ]
    }
   ],
   "source": [
    "for z in columns:\n",
    "    if x_main[x_main[z]=='Unknown'][z].count() !=0:\n",
    "        print('Column is:',z)\n",
    "        print(x_main[x_main[z]=='Unknown'][z].count())"
   ]
  },
  {
   "cell_type": "code",
   "execution_count": 8,
   "id": "c64ee2de",
   "metadata": {
    "ExecuteTime": {
     "end_time": "2022-12-03T06:37:37.831553Z",
     "start_time": "2022-12-03T06:37:37.786181Z"
    },
    "id": "c64ee2de"
   },
   "outputs": [],
   "source": [
    "columns_2=['age_band','status','family_income','TVarea','gender','region']\n",
    "for y in columns_2:\n",
    "    z=str(x_main[y].mode())\n",
    "    x_main[y]=x_main[y].str.replace('Unknown',z)\n"
   ]
  },
  {
   "cell_type": "code",
   "execution_count": 9,
   "id": "fEDXV1TC1CRP",
   "metadata": {
    "ExecuteTime": {
     "end_time": "2022-12-03T06:37:37.878477Z",
     "start_time": "2022-12-03T06:37:37.833547Z"
    },
    "colab": {
     "base_uri": "https://localhost:8080/"
    },
    "id": "fEDXV1TC1CRP",
    "outputId": "4cc320cf-d0ed-4d61-b079-ffcf6bc3ccc2"
   },
   "outputs": [
    {
     "name": "stdout",
     "output_type": "stream",
     "text": [
      "Column is: occupation\n",
      "449\n",
      "Column is: occupation_partner\n",
      "1942\n"
     ]
    }
   ],
   "source": [
    "for z in columns:\n",
    "    if x_main[x_main[z]=='Unknown'][z].count() !=0:\n",
    "        print('Column is:',z)\n",
    "        print(x_main[x_main[z]=='Unknown'][z].count())"
   ]
  },
  {
   "cell_type": "code",
   "execution_count": 10,
   "id": "b3867133",
   "metadata": {
    "ExecuteTime": {
     "end_time": "2022-12-03T06:37:37.894434Z",
     "start_time": "2022-12-03T06:37:37.881470Z"
    },
    "id": "b3867133"
   },
   "outputs": [],
   "source": [
    "retired_age_band=['61-65','65-70','71+']"
   ]
  },
  {
   "cell_type": "code",
   "execution_count": 11,
   "id": "9cFWHlrmHdnp",
   "metadata": {
    "ExecuteTime": {
     "end_time": "2022-12-03T06:37:37.909393Z",
     "start_time": "2022-12-03T06:37:37.896447Z"
    },
    "id": "9cFWHlrmHdnp"
   },
   "outputs": [],
   "source": [
    "x_main.loc[(x_main['occupation']=='Unknown') & (x_main['age_band'].isin(retired_age_band)), 'occupation']='Retired'\n",
    "x_main.loc[(x_main['occupation']=='Unknown'), 'occupation']='Professional'\n",
    "x_main.loc[(x_main['occupation_partner']=='Unknown') & (x_main['age_band'].isin(retired_age_band)), 'occupation_partner']='Retired'\n",
    "x_main.loc[(x_main['occupation_partner']=='Unknown'), 'occupation_partner']='Professional'"
   ]
  },
  {
   "cell_type": "code",
   "execution_count": 12,
   "id": "TUZUC6rBR7UY",
   "metadata": {
    "ExecuteTime": {
     "end_time": "2022-12-03T06:37:37.925351Z",
     "start_time": "2022-12-03T06:37:37.910393Z"
    },
    "colab": {
     "base_uri": "https://localhost:8080/"
    },
    "id": "TUZUC6rBR7UY",
    "outputId": "7e7ec191-6964-48b2-d0f2-dd5818613ac7"
   },
   "outputs": [
    {
     "data": {
      "text/plain": [
       "45-50                        1098\n",
       "41-45                         903\n",
       "36-40                         895\n",
       "55-60                         865\n",
       "31-35                         840\n",
       "51-55                         833\n",
       "26-30                         735\n",
       "61-65                         700\n",
       "65-70                         468\n",
       "22-25                         356\n",
       "71+                           337\n",
       "18-21                          50\n",
       "0    45-50\\ndtype: object      44\n",
       "Name: age_band, dtype: int64"
      ]
     },
     "execution_count": 12,
     "metadata": {},
     "output_type": "execute_result"
    }
   ],
   "source": [
    "x_main['age_band'].value_counts()"
   ]
  },
  {
   "cell_type": "code",
   "execution_count": 13,
   "id": "oYdxc9wxUbk9",
   "metadata": {
    "ExecuteTime": {
     "end_time": "2022-12-03T06:37:37.940316Z",
     "start_time": "2022-12-03T06:37:37.926349Z"
    },
    "id": "oYdxc9wxUbk9"
   },
   "outputs": [],
   "source": [
    "x_main['age_band'] = x_main['age_band'].str.replace('0    45-50\\ndtype: object','45-50')"
   ]
  },
  {
   "cell_type": "markdown",
   "id": "3183ac2e",
   "metadata": {},
   "source": [
    "# Converting columns to comparable forms"
   ]
  },
  {
   "cell_type": "code",
   "execution_count": 14,
   "id": "t9v29NSyVHRD",
   "metadata": {
    "ExecuteTime": {
     "end_time": "2022-12-03T06:37:38.001358Z",
     "start_time": "2022-12-03T06:37:37.942307Z"
    },
    "id": "t9v29NSyVHRD"
   },
   "outputs": [],
   "source": [
    "x_main['age_band'] = x_main['age_band'].str.replace('45-50','50',regex=False)\n",
    "x_main['age_band'] = x_main['age_band'].str.replace('41-45','45',regex=False)\n",
    "x_main['age_band'] = x_main['age_band'].str.replace('36-40','40',regex=False)\n",
    "x_main['age_band'] = x_main['age_band'].str.replace('55-60','60',regex=False)\n",
    "x_main['age_band'] = x_main['age_band'].str.replace('31-35','35',regex=False)\n",
    "x_main['age_band'] = x_main['age_band'].str.replace('51-55','55',regex=False)\n",
    "x_main['age_band'] = x_main['age_band'].str.replace('26-30','30',regex=False)\n",
    "x_main['age_band'] = x_main['age_band'].str.replace('61-65','65',regex=False)\n",
    "x_main['age_band'] = x_main['age_band'].str.replace('65-70','70',regex=False)\n",
    "x_main['age_band'] = x_main['age_band'].str.replace('22-25','25',regex=False)\n",
    "x_main['age_band'] = x_main['age_band'].str.replace('71+','71',regex=False)\n",
    "x_main['age_band'] = x_main['age_band'].str.replace('18-21','21',regex=False)\n",
    "\n"
   ]
  },
  {
   "cell_type": "code",
   "execution_count": 15,
   "id": "VwIn4OfGVSoC",
   "metadata": {
    "ExecuteTime": {
     "end_time": "2022-12-03T06:37:38.016319Z",
     "start_time": "2022-12-03T06:37:38.002355Z"
    },
    "id": "VwIn4OfGVSoC"
   },
   "outputs": [],
   "source": [
    "x_main[['age_band']] = x_main[['age_band']].apply(pd.to_numeric)"
   ]
  },
  {
   "cell_type": "code",
   "execution_count": 16,
   "id": "IP62HqBkbkzH",
   "metadata": {
    "ExecuteTime": {
     "end_time": "2022-12-03T06:37:38.046319Z",
     "start_time": "2022-12-03T06:37:38.017315Z"
    },
    "colab": {
     "base_uri": "https://localhost:8080/"
    },
    "id": "IP62HqBkbkzH",
    "outputId": "709abe8d-8e6c-4bf7-91e6-babef1b12bc3"
   },
   "outputs": [
    {
     "data": {
      "text/plain": [
       "array(['>=35,000', '<22,500, >=20,000', '<25,000, >=22,500',\n",
       "       '<30,000, >=27,500', '<20,000, >=17,500', '<27,500, >=25,000',\n",
       "       '< 4,000', '<15,000, >=12,500', '<17,500, >=15,000',\n",
       "       '< 8,000, >= 4,000', '<12,500, >=10,000', '<10,000, >= 8,000',\n",
       "       '0    >=35,000\\ndtype: object'], dtype=object)"
      ]
     },
     "execution_count": 16,
     "metadata": {},
     "output_type": "execute_result"
    }
   ],
   "source": [
    "x_main['family_income'].unique()"
   ]
  },
  {
   "cell_type": "code",
   "execution_count": 17,
   "id": "pIAiJr5tcbnf",
   "metadata": {
    "ExecuteTime": {
     "end_time": "2022-12-03T06:37:38.061241Z",
     "start_time": "2022-12-03T06:37:38.048277Z"
    },
    "id": "pIAiJr5tcbnf"
   },
   "outputs": [],
   "source": [
    "salary_1=['<22,500, >=20,000', '<25,000, >=22,500','<30,000, >=27,500', '<20,000, >=17,500', '<27,500, >=25,000','< 4,000', '<15,000, >=12,500', '<17,500, >=15,000',\n",
    "       '< 8,000, >= 4,000', '<12,500, >=10,000', '<10,000, >= 8,000']"
   ]
  },
  {
   "cell_type": "code",
   "execution_count": 18,
   "id": "GHQW_3lZLeqS",
   "metadata": {
    "ExecuteTime": {
     "end_time": "2022-12-03T06:37:38.123941Z",
     "start_time": "2022-12-03T06:37:38.063236Z"
    },
    "id": "GHQW_3lZLeqS"
   },
   "outputs": [],
   "source": [
    "x_main['family_income'] = x_main['family_income'].str.replace('>=35,000','35000',regex=False)\n",
    "x_main['family_income'] = x_main['family_income'].str.replace('<22,500, >=20,000','22500',regex=False)\n",
    "x_main['family_income'] = x_main['family_income'].str.replace('<25,000, >=22,500','25000',regex=False)\n",
    "x_main['family_income'] = x_main['family_income'].str.replace('<30,000, >=27,500','30000',regex=False)\n",
    "x_main['family_income'] = x_main['family_income'].str.replace('<20,000, >=17,500','20000',regex=False)\n",
    "x_main['family_income'] = x_main['family_income'].str.replace('<27,500, >=25,000','27500',regex=False)\n",
    "x_main['family_income'] = x_main['family_income'].str.replace('< 4,000','4000',regex=False)\n",
    "x_main['family_income'] = x_main['family_income'].str.replace('<15,000, >=12,500','15000',regex=False)\n",
    "x_main['family_income'] = x_main['family_income'].str.replace('<17,500, >=15,000','17500',regex=False)\n",
    "x_main['family_income'] = x_main['family_income'].str.replace('< 8,000, >= 4,000','8000',regex=False)\n",
    "x_main['family_income'] = x_main['family_income'].str.replace('<12,500, >=10,000','12500',regex=False)\n",
    "x_main['family_income'] = x_main['family_income'].str.replace('<10,000, >= 8,000','10000',regex=False)\n",
    "x_main['family_income'] = x_main['family_income'].str.replace('0    35000\\ndtype: object','35000',regex=False)\n",
    "\n"
   ]
  },
  {
   "cell_type": "code",
   "execution_count": 19,
   "id": "nW-sThZUOl_S",
   "metadata": {
    "ExecuteTime": {
     "end_time": "2022-12-03T06:37:38.139860Z",
     "start_time": "2022-12-03T06:37:38.125895Z"
    },
    "id": "nW-sThZUOl_S"
   },
   "outputs": [],
   "source": [
    "x_main[['family_income']] = x_main[['family_income']].apply(pd.to_numeric)\n"
   ]
  },
  {
   "cell_type": "code",
   "execution_count": 20,
   "id": "mDHs6PlVP8Qb",
   "metadata": {
    "ExecuteTime": {
     "end_time": "2022-12-03T06:37:38.171893Z",
     "start_time": "2022-12-03T06:37:38.141858Z"
    },
    "id": "mDHs6PlVP8Qb"
   },
   "outputs": [],
   "source": [
    "x_main['status'] = x_main['status'].str.replace('0    Partner\\ndtype: object','Partner',regex=False)\n",
    "x_main.loc[x_main['year_last_moved']==0,'year_last_moved']=1997\n",
    "x_main['TVarea'] = x_main['TVarea'].str.replace('0    Central\\ndtype: object','Central',regex=False)\n",
    "x_main['gender'] = x_main['gender'].str.replace('0    Female\\ndtype: object','Female',regex=False)\n",
    "x_main['region'] = x_main['region'].str.replace('0    South East\\ndtype: object','South East',regex=False)\n",
    "\n",
    "\n"
   ]
  },
  {
   "cell_type": "code",
   "execution_count": 21,
   "id": "jJmiLDMMmh0Y",
   "metadata": {
    "ExecuteTime": {
     "end_time": "2022-12-03T06:37:38.187029Z",
     "start_time": "2022-12-03T06:37:38.173870Z"
    },
    "id": "jJmiLDMMmh0Y"
   },
   "outputs": [],
   "source": [
    "x_main.drop(['year_last_moved','children','TVarea'],inplace=True,axis=1)"
   ]
  },
  {
   "cell_type": "markdown",
   "id": "3b0acfac",
   "metadata": {},
   "source": [
    "# Merging columns"
   ]
  },
  {
   "cell_type": "code",
   "execution_count": 22,
   "id": "t8FWKmTwGB5f",
   "metadata": {
    "ExecuteTime": {
     "end_time": "2022-12-03T06:37:38.217904Z",
     "start_time": "2022-12-03T06:37:38.187897Z"
    },
    "id": "t8FWKmTwGB5f"
   },
   "outputs": [],
   "source": [
    "x_main['investments']=x_main['Investment_in_Mutual_Fund']+x_main['Investment_Tax_Saving_Bond']+x_main['Investment_in_Commudity']+x_main['Investment_in_Equity']+x_main['Investment_in_Derivative']+x_main['Term_Deposit']\n",
    "x_main['spending']=x_main['Balance_Transfer']+x_main['Online_Purchase_Amount']\n",
    "x_main['loans']=x_main['Personal_Loan']+x_main['Home_Loan']\n",
    "x_main['insurance']=x_main['Life_Insurance']+x_main['Medical_Insurance']"
   ]
  },
  {
   "cell_type": "code",
   "execution_count": 23,
   "id": "DlEj0g8UHgvs",
   "metadata": {
    "ExecuteTime": {
     "end_time": "2022-12-03T06:37:38.233036Z",
     "start_time": "2022-12-03T06:37:38.218902Z"
    },
    "id": "DlEj0g8UHgvs"
   },
   "outputs": [],
   "source": [
    "x_main.drop(columns=['Life_Insurance','Medical_Insurance','Personal_Loan','Investment_in_Mutual_Fund','Investment_Tax_Saving_Bond','Home_Loan','Investment_in_Commudity','Investment_in_Equity','Investment_in_Derivative','Term_Deposit','Balance_Transfer','Online_Purchase_Amount','post_area','region'],inplace=True)\n"
   ]
  },
  {
   "cell_type": "code",
   "execution_count": 24,
   "id": "9l7C7T7BXVjd",
   "metadata": {
    "ExecuteTime": {
     "end_time": "2022-12-03T06:37:38.248209Z",
     "start_time": "2022-12-03T06:37:38.233977Z"
    },
    "id": "9l7C7T7BXVjd"
   },
   "outputs": [],
   "source": [
    "cat_cols =list(['status', 'occupation', 'occupation_partner', 'home_status',\n",
    "       'self_employed', 'self_employed_partner', 'gender',\n",
    "       ])"
   ]
  },
  {
   "cell_type": "code",
   "execution_count": 25,
   "id": "_2l_-PFfB6VW",
   "metadata": {
    "ExecuteTime": {
     "end_time": "2022-12-03T06:37:38.280126Z",
     "start_time": "2022-12-03T06:37:38.249209Z"
    },
    "colab": {
     "base_uri": "https://localhost:8080/"
    },
    "id": "_2l_-PFfB6VW",
    "outputId": "67a3f2eb-16c1-42b4-d16b-c8b6e77256ca"
   },
   "outputs": [
    {
     "name": "stdout",
     "output_type": "stream",
     "text": [
      "Partner                 6164\n",
      "Single/Never Married     881\n",
      "Divorced/Separated       569\n",
      "Widowed                  510\n",
      "Name: status, dtype: int64\n",
      "======================================================================\n",
      "Professional         2335\n",
      "Retired              1862\n",
      "Secretarial/Admin    1435\n",
      "Housewife             984\n",
      "Business Manager      578\n",
      "Manual Worker         451\n",
      "Other                 432\n",
      "Student                47\n",
      "Name: occupation, dtype: int64\n",
      "======================================================================\n",
      "Professional         3103\n",
      "Retired              2017\n",
      "Manual Worker        1222\n",
      "Business Manager      575\n",
      "Secretarial/Admin     510\n",
      "Housewife             422\n",
      "Other                 261\n",
      "Student                14\n",
      "Name: occupation_partner, dtype: int64\n",
      "======================================================================\n",
      "Own Home                7506\n",
      "Rent from Council/HA     279\n",
      "Rent Privately           205\n",
      "Live in Parental Hom      90\n",
      "Unclassified              44\n",
      "Name: home_status, dtype: int64\n",
      "======================================================================\n",
      "No     7543\n",
      "Yes     581\n",
      "Name: self_employed, dtype: int64\n",
      "======================================================================\n",
      "No     7207\n",
      "Yes     917\n",
      "Name: self_employed_partner, dtype: int64\n",
      "======================================================================\n",
      "Female    6137\n",
      "Male      1987\n",
      "Name: gender, dtype: int64\n",
      "======================================================================\n"
     ]
    }
   ],
   "source": [
    "for c in cat_cols:\n",
    "    print(x_main[c].value_counts())\n",
    "    print('='*70)"
   ]
  },
  {
   "cell_type": "markdown",
   "id": "gqfOldJCEpAi",
   "metadata": {
    "id": "gqfOldJCEpAi"
   },
   "source": [
    "# Label encoding for all the categorical columns"
   ]
  },
  {
   "cell_type": "code",
   "execution_count": 26,
   "id": "nlQ0bhFvEnER",
   "metadata": {
    "ExecuteTime": {
     "end_time": "2022-12-03T06:37:38.312079Z",
     "start_time": "2022-12-03T06:37:38.282121Z"
    },
    "id": "nlQ0bhFvEnER"
   },
   "outputs": [],
   "source": [
    "from sklearn import preprocessing\n",
    "le = preprocessing.LabelEncoder()\n",
    "\n",
    "for x in cat_cols:\n",
    "    x_main[x] = le.fit_transform(x_main[x].astype(str))\n",
    "  "
   ]
  },
  {
   "cell_type": "markdown",
   "id": "TMCWbMDKdGHX",
   "metadata": {
    "id": "TMCWbMDKdGHX"
   },
   "source": [
    "# Skewness of columns"
   ]
  },
  {
   "cell_type": "code",
   "execution_count": 27,
   "id": "4be2ef3a",
   "metadata": {
    "ExecuteTime": {
     "end_time": "2022-12-03T06:37:38.328082Z",
     "start_time": "2022-12-03T06:37:38.313052Z"
    }
   },
   "outputs": [
    {
     "data": {
      "text/plain": [
       "8.895471542761344"
      ]
     },
     "execution_count": 27,
     "metadata": {},
     "output_type": "execute_result"
    }
   ],
   "source": [
    "x_main['Portfolio_Balance'].skew(axis=0)"
   ]
  },
  {
   "cell_type": "code",
   "execution_count": 28,
   "id": "c64620a1",
   "metadata": {
    "ExecuteTime": {
     "end_time": "2022-12-03T06:37:38.344043Z",
     "start_time": "2022-12-03T06:37:38.334030Z"
    }
   },
   "outputs": [],
   "source": [
    "x_main['Portfolio_Balance']=np.log(x_main['Portfolio_Balance']+80)"
   ]
  },
  {
   "cell_type": "code",
   "execution_count": 29,
   "id": "f71094f0",
   "metadata": {
    "ExecuteTime": {
     "end_time": "2022-12-03T06:37:38.359997Z",
     "start_time": "2022-12-03T06:37:38.345998Z"
    }
   },
   "outputs": [
    {
     "data": {
      "text/plain": [
       "-0.21879018497721892"
      ]
     },
     "execution_count": 29,
     "metadata": {},
     "output_type": "execute_result"
    }
   ],
   "source": [
    "x_main['Portfolio_Balance'].skew(axis=0)"
   ]
  },
  {
   "cell_type": "code",
   "execution_count": 30,
   "id": "9f756667",
   "metadata": {
    "ExecuteTime": {
     "end_time": "2022-12-03T06:37:38.375954Z",
     "start_time": "2022-12-03T06:37:38.361952Z"
    }
   },
   "outputs": [],
   "source": [
    "num_cols=['age_band','family_income','Average_Credit_Card_Transaction','Average_A/C_Balance','investments','spending','loans','insurance']    \n",
    "skew_values=dict()\n",
    "for x in num_cols:\n",
    "    skew_values[x]=x_main[x].skew(axis=0)\n",
    "        "
   ]
  },
  {
   "cell_type": "code",
   "execution_count": 31,
   "id": "84508c4e",
   "metadata": {
    "ExecuteTime": {
     "end_time": "2022-12-03T06:37:38.391873Z",
     "start_time": "2022-12-03T06:37:38.377922Z"
    }
   },
   "outputs": [
    {
     "name": "stdout",
     "output_type": "stream",
     "text": [
      "{'Average_A/C_Balance': 2.6899852225751015,\n",
      " 'Average_Credit_Card_Transaction': 3.761152392656973,\n",
      " 'age_band': -0.01170044214934164,\n",
      " 'family_income': -0.3807289257828901,\n",
      " 'insurance': 4.511569225510843,\n",
      " 'investments': 7.972674621064578,\n",
      " 'loans': 24.687042892140976,\n",
      " 'spending': 10.804419083496702}\n"
     ]
    }
   ],
   "source": [
    "pprint(skew_values)"
   ]
  },
  {
   "cell_type": "code",
   "execution_count": 32,
   "id": "4a7a05c9",
   "metadata": {
    "ExecuteTime": {
     "end_time": "2022-12-03T06:37:38.407835Z",
     "start_time": "2022-12-03T06:37:38.393867Z"
    }
   },
   "outputs": [],
   "source": [
    "for x in list(skew_values):\n",
    "    if skew_values[x]>-0.5 and skew_values[x]<0.5:\n",
    "        del skew_values[x]"
   ]
  },
  {
   "cell_type": "code",
   "execution_count": 33,
   "id": "deabe4da",
   "metadata": {
    "ExecuteTime": {
     "end_time": "2022-12-03T06:37:38.422898Z",
     "start_time": "2022-12-03T06:37:38.409832Z"
    }
   },
   "outputs": [
    {
     "name": "stdout",
     "output_type": "stream",
     "text": [
      "{'Average_A/C_Balance': 2.6899852225751015,\n",
      " 'Average_Credit_Card_Transaction': 3.761152392656973,\n",
      " 'insurance': 4.511569225510843,\n",
      " 'investments': 7.972674621064578,\n",
      " 'loans': 24.687042892140976,\n",
      " 'spending': 10.804419083496702}\n"
     ]
    }
   ],
   "source": [
    "pprint(skew_values)"
   ]
  },
  {
   "cell_type": "code",
   "execution_count": 34,
   "id": "n_fPOkUFOGu8",
   "metadata": {
    "ExecuteTime": {
     "end_time": "2022-12-03T06:37:38.454147Z",
     "start_time": "2022-12-03T06:37:38.424875Z"
    },
    "id": "n_fPOkUFOGu8"
   },
   "outputs": [],
   "source": [
    "## Log transformation \n",
    "\n",
    "for z in skew_values:\n",
    "    x_main[z]=np.log(x_main[z]+1)\n"
   ]
  },
  {
   "cell_type": "code",
   "execution_count": 35,
   "id": "00628a1d",
   "metadata": {
    "ExecuteTime": {
     "end_time": "2022-12-03T06:37:38.469284Z",
     "start_time": "2022-12-03T06:37:38.457019Z"
    }
   },
   "outputs": [
    {
     "name": "stdout",
     "output_type": "stream",
     "text": [
      "{'Average_Credit_Card_Transaction': 0.8051792765216884,\n",
      " 'insurance': -0.8182515531507397,\n",
      " 'investments': -1.122513503020507}\n"
     ]
    }
   ],
   "source": [
    "skew_values_2=dict()\n",
    "for x in num_cols:\n",
    "    skew_values_2[x]=x_main[x].skew(axis=0)\n",
    "for x in list(skew_values_2):\n",
    "    if skew_values_2[x]>-0.5 and skew_values_2[x]<0.5:\n",
    "        del skew_values_2[x]\n",
    "pprint(skew_values_2)"
   ]
  },
  {
   "cell_type": "code",
   "execution_count": 36,
   "id": "6a6ee56b",
   "metadata": {
    "ExecuteTime": {
     "end_time": "2022-12-03T06:37:38.515809Z",
     "start_time": "2022-12-03T06:37:38.471283Z"
    }
   },
   "outputs": [],
   "source": [
    "### box cox transformation \n",
    "\n",
    "for z in skew_values_2:\n",
    "    x_main[z],_=stats.boxcox(x_main[z]+1)"
   ]
  },
  {
   "cell_type": "code",
   "execution_count": 37,
   "id": "3a10110a",
   "metadata": {
    "ExecuteTime": {
     "end_time": "2022-12-03T06:37:38.531657Z",
     "start_time": "2022-12-03T06:37:38.517685Z"
    }
   },
   "outputs": [
    {
     "name": "stdout",
     "output_type": "stream",
     "text": [
      "{'Average_Credit_Card_Transaction': 0.516734650125929}\n"
     ]
    }
   ],
   "source": [
    "skew_values_2=dict()\n",
    "for x in num_cols:\n",
    "    skew_values_2[x]=x_main[x].skew(axis=0)\n",
    "for x in list(skew_values_2):\n",
    "    if skew_values_2[x]>-0.5 and skew_values_2[x]<0.5:\n",
    "        del skew_values_2[x]\n",
    "pprint(skew_values_2)"
   ]
  },
  {
   "cell_type": "code",
   "execution_count": 38,
   "id": "bce17257",
   "metadata": {
    "ExecuteTime": {
     "end_time": "2022-12-03T06:37:38.547477Z",
     "start_time": "2022-12-03T06:37:38.532515Z"
    }
   },
   "outputs": [],
   "source": [
    "x_main['Average_Credit_Card_Transaction'],_=stats.boxcox(x_main['Average_Credit_Card_Transaction']+1)"
   ]
  },
  {
   "cell_type": "code",
   "execution_count": 39,
   "id": "1cc5281d",
   "metadata": {
    "ExecuteTime": {
     "end_time": "2022-12-03T06:37:38.563435Z",
     "start_time": "2022-12-03T06:37:38.549477Z"
    }
   },
   "outputs": [
    {
     "data": {
      "text/plain": [
       "0.4958726853368258"
      ]
     },
     "execution_count": 39,
     "metadata": {},
     "output_type": "execute_result"
    }
   ],
   "source": [
    "x_main['Average_Credit_Card_Transaction'].skew(axis=0)"
   ]
  },
  {
   "cell_type": "markdown",
   "id": "da497ef5",
   "metadata": {},
   "source": [
    "# Checking if target variable is balanced"
   ]
  },
  {
   "cell_type": "code",
   "execution_count": 40,
   "id": "ec098dfd",
   "metadata": {
    "ExecuteTime": {
     "end_time": "2022-12-03T06:37:38.578432Z",
     "start_time": "2022-12-03T06:37:38.565430Z"
    }
   },
   "outputs": [
    {
     "data": {
      "text/plain": [
       "2    7264\n",
       "1     860\n",
       "Name: Revenue_Grid, dtype: int64"
      ]
     },
     "execution_count": 40,
     "metadata": {},
     "output_type": "execute_result"
    }
   ],
   "source": [
    "y_main.value_counts()"
   ]
  },
  {
   "cell_type": "code",
   "execution_count": 41,
   "id": "3a76120c",
   "metadata": {
    "ExecuteTime": {
     "end_time": "2022-12-03T06:37:38.594390Z",
     "start_time": "2022-12-03T06:37:38.580408Z"
    }
   },
   "outputs": [
    {
     "data": {
      "text/plain": [
       "8.446511627906977"
      ]
     },
     "execution_count": 41,
     "metadata": {},
     "output_type": "execute_result"
    }
   ],
   "source": [
    "7264/860"
   ]
  },
  {
   "cell_type": "code",
   "execution_count": 42,
   "id": "c17ecb95",
   "metadata": {
    "ExecuteTime": {
     "end_time": "2022-12-03T06:37:38.829109Z",
     "start_time": "2022-12-03T06:37:38.595349Z"
    }
   },
   "outputs": [],
   "source": [
    "from imblearn.over_sampling import BorderlineSMOTE\n",
    "ros=BorderlineSMOTE(random_state=0)"
   ]
  },
  {
   "cell_type": "code",
   "execution_count": 43,
   "id": "939bf5c9",
   "metadata": {
    "ExecuteTime": {
     "end_time": "2022-12-03T06:37:39.109318Z",
     "start_time": "2022-12-03T06:37:38.830074Z"
    }
   },
   "outputs": [],
   "source": [
    "x_main_1,y_main_1=ros.fit_resample(x_main,y_main)"
   ]
  },
  {
   "cell_type": "code",
   "execution_count": 44,
   "id": "a5541d5e",
   "metadata": {
    "ExecuteTime": {
     "end_time": "2022-12-03T06:37:39.127335Z",
     "start_time": "2022-12-03T06:37:39.111313Z"
    }
   },
   "outputs": [
    {
     "data": {
      "text/plain": [
       "2    7264\n",
       "1    7264\n",
       "Name: Revenue_Grid, dtype: int64"
      ]
     },
     "execution_count": 44,
     "metadata": {},
     "output_type": "execute_result"
    }
   ],
   "source": [
    "y_main_1.value_counts()"
   ]
  },
  {
   "cell_type": "markdown",
   "id": "71f944ee",
   "metadata": {
    "id": "D8SdtiRFM-k1"
   },
   "source": [
    "# Train Test Split-Model"
   ]
  },
  {
   "cell_type": "code",
   "execution_count": 45,
   "id": "b77c980c",
   "metadata": {
    "ExecuteTime": {
     "end_time": "2022-12-03T06:37:39.157191Z",
     "start_time": "2022-12-03T06:37:39.130263Z"
    },
    "id": "BeDKRY3IM3jf"
   },
   "outputs": [],
   "source": [
    "from sklearn.model_selection import train_test_split\n",
    "X_train,X_test,y_train,y_test=train_test_split(x_main_1,y_main_1,random_state=102,test_size=0.25)"
   ]
  },
  {
   "cell_type": "code",
   "execution_count": 46,
   "id": "ed75226c",
   "metadata": {
    "ExecuteTime": {
     "end_time": "2022-12-03T06:37:39.173148Z",
     "start_time": "2022-12-03T06:37:39.158188Z"
    },
    "colab": {
     "base_uri": "https://localhost:8080/"
    },
    "id": "MXMc-r2NP_H8",
    "outputId": "b6ce7a21-ef5e-4b7c-b8e4-349d7e6a0f31"
   },
   "outputs": [
    {
     "data": {
      "text/plain": [
       "((10896, 16), (3632, 16), (10896,), (3632,))"
      ]
     },
     "execution_count": 46,
     "metadata": {},
     "output_type": "execute_result"
    }
   ],
   "source": [
    "X_train.shape,X_test.shape,y_train.shape,y_test.shape"
   ]
  },
  {
   "cell_type": "code",
   "execution_count": 47,
   "id": "d8HlXskLKkUS",
   "metadata": {
    "ExecuteTime": {
     "end_time": "2022-12-03T06:37:39.203110Z",
     "start_time": "2022-12-03T06:37:39.175145Z"
    },
    "id": "d8HlXskLKkUS"
   },
   "outputs": [],
   "source": [
    "\n",
    "from sklearn.preprocessing import MinMaxScaler\n",
    "mms=MinMaxScaler()\n",
    "X_train[num_cols]=mms.fit_transform(X_train[num_cols])\n",
    "X_test[num_cols]=mms.fit_transform(X_test[num_cols])"
   ]
  },
  {
   "cell_type": "code",
   "execution_count": 48,
   "id": "A9TlsgFRoGim",
   "metadata": {
    "ExecuteTime": {
     "end_time": "2022-12-03T06:37:39.297853Z",
     "start_time": "2022-12-03T06:37:39.205103Z"
    },
    "colab": {
     "base_uri": "https://localhost:8080/"
    },
    "id": "A9TlsgFRoGim",
    "outputId": "12d98089-288a-4036-dd20-2ea4811ca5a4"
   },
   "outputs": [
    {
     "data": {
      "text/html": [
       "<style>#sk-container-id-1 {color: black;background-color: white;}#sk-container-id-1 pre{padding: 0;}#sk-container-id-1 div.sk-toggleable {background-color: white;}#sk-container-id-1 label.sk-toggleable__label {cursor: pointer;display: block;width: 100%;margin-bottom: 0;padding: 0.3em;box-sizing: border-box;text-align: center;}#sk-container-id-1 label.sk-toggleable__label-arrow:before {content: \"▸\";float: left;margin-right: 0.25em;color: #696969;}#sk-container-id-1 label.sk-toggleable__label-arrow:hover:before {color: black;}#sk-container-id-1 div.sk-estimator:hover label.sk-toggleable__label-arrow:before {color: black;}#sk-container-id-1 div.sk-toggleable__content {max-height: 0;max-width: 0;overflow: hidden;text-align: left;background-color: #f0f8ff;}#sk-container-id-1 div.sk-toggleable__content pre {margin: 0.2em;color: black;border-radius: 0.25em;background-color: #f0f8ff;}#sk-container-id-1 input.sk-toggleable__control:checked~div.sk-toggleable__content {max-height: 200px;max-width: 100%;overflow: auto;}#sk-container-id-1 input.sk-toggleable__control:checked~label.sk-toggleable__label-arrow:before {content: \"▾\";}#sk-container-id-1 div.sk-estimator input.sk-toggleable__control:checked~label.sk-toggleable__label {background-color: #d4ebff;}#sk-container-id-1 div.sk-label input.sk-toggleable__control:checked~label.sk-toggleable__label {background-color: #d4ebff;}#sk-container-id-1 input.sk-hidden--visually {border: 0;clip: rect(1px 1px 1px 1px);clip: rect(1px, 1px, 1px, 1px);height: 1px;margin: -1px;overflow: hidden;padding: 0;position: absolute;width: 1px;}#sk-container-id-1 div.sk-estimator {font-family: monospace;background-color: #f0f8ff;border: 1px dotted black;border-radius: 0.25em;box-sizing: border-box;margin-bottom: 0.5em;}#sk-container-id-1 div.sk-estimator:hover {background-color: #d4ebff;}#sk-container-id-1 div.sk-parallel-item::after {content: \"\";width: 100%;border-bottom: 1px solid gray;flex-grow: 1;}#sk-container-id-1 div.sk-label:hover label.sk-toggleable__label {background-color: #d4ebff;}#sk-container-id-1 div.sk-serial::before {content: \"\";position: absolute;border-left: 1px solid gray;box-sizing: border-box;top: 0;bottom: 0;left: 50%;z-index: 0;}#sk-container-id-1 div.sk-serial {display: flex;flex-direction: column;align-items: center;background-color: white;padding-right: 0.2em;padding-left: 0.2em;position: relative;}#sk-container-id-1 div.sk-item {position: relative;z-index: 1;}#sk-container-id-1 div.sk-parallel {display: flex;align-items: stretch;justify-content: center;background-color: white;position: relative;}#sk-container-id-1 div.sk-item::before, #sk-container-id-1 div.sk-parallel-item::before {content: \"\";position: absolute;border-left: 1px solid gray;box-sizing: border-box;top: 0;bottom: 0;left: 50%;z-index: -1;}#sk-container-id-1 div.sk-parallel-item {display: flex;flex-direction: column;z-index: 1;position: relative;background-color: white;}#sk-container-id-1 div.sk-parallel-item:first-child::after {align-self: flex-end;width: 50%;}#sk-container-id-1 div.sk-parallel-item:last-child::after {align-self: flex-start;width: 50%;}#sk-container-id-1 div.sk-parallel-item:only-child::after {width: 0;}#sk-container-id-1 div.sk-dashed-wrapped {border: 1px dashed gray;margin: 0 0.4em 0.5em 0.4em;box-sizing: border-box;padding-bottom: 0.4em;background-color: white;}#sk-container-id-1 div.sk-label label {font-family: monospace;font-weight: bold;display: inline-block;line-height: 1.2em;}#sk-container-id-1 div.sk-label-container {text-align: center;}#sk-container-id-1 div.sk-container {/* jupyter's `normalize.less` sets `[hidden] { display: none; }` but bootstrap.min.css set `[hidden] { display: none !important; }` so we also need the `!important` here to be able to override the default hidden behavior on the sphinx rendered scikit-learn.org. See: https://github.com/scikit-learn/scikit-learn/issues/21755 */display: inline-block !important;position: relative;}#sk-container-id-1 div.sk-text-repr-fallback {display: none;}</style><div id=\"sk-container-id-1\" class=\"sk-top-container\"><div class=\"sk-text-repr-fallback\"><pre>LogisticRegression(max_iter=1000)</pre><b>In a Jupyter environment, please rerun this cell to show the HTML representation or trust the notebook. <br />On GitHub, the HTML representation is unable to render, please try loading this page with nbviewer.org.</b></div><div class=\"sk-container\" hidden><div class=\"sk-item\"><div class=\"sk-estimator sk-toggleable\"><input class=\"sk-toggleable__control sk-hidden--visually\" id=\"sk-estimator-id-1\" type=\"checkbox\" checked><label for=\"sk-estimator-id-1\" class=\"sk-toggleable__label sk-toggleable__label-arrow\">LogisticRegression</label><div class=\"sk-toggleable__content\"><pre>LogisticRegression(max_iter=1000)</pre></div></div></div></div></div>"
      ],
      "text/plain": [
       "LogisticRegression(max_iter=1000)"
      ]
     },
     "execution_count": 48,
     "metadata": {},
     "output_type": "execute_result"
    }
   ],
   "source": [
    "from sklearn.linear_model import LogisticRegression\n",
    "\n",
    "logreg2=LogisticRegression(max_iter=1000)\n",
    "logreg2.fit(X_train,y_train)"
   ]
  },
  {
   "cell_type": "code",
   "execution_count": 49,
   "id": "9c128e55",
   "metadata": {
    "ExecuteTime": {
     "end_time": "2022-12-03T06:37:39.312813Z",
     "start_time": "2022-12-03T06:37:39.298852Z"
    }
   },
   "outputs": [],
   "source": [
    "from sklearn.metrics import f1_score"
   ]
  },
  {
   "cell_type": "code",
   "execution_count": 50,
   "id": "3-lG_D1xORRZ",
   "metadata": {
    "ExecuteTime": {
     "end_time": "2022-12-03T06:37:39.327772Z",
     "start_time": "2022-12-03T06:37:39.313811Z"
    },
    "id": "3-lG_D1xORRZ"
   },
   "outputs": [],
   "source": [
    "y_pred_train=logreg2.predict(X_train)\n",
    "y_pred_test=logreg2.predict(X_test)"
   ]
  },
  {
   "cell_type": "code",
   "execution_count": 51,
   "id": "4_NJkIMXpRH0",
   "metadata": {
    "ExecuteTime": {
     "end_time": "2022-12-03T06:37:39.342732Z",
     "start_time": "2022-12-03T06:37:39.329768Z"
    },
    "colab": {
     "base_uri": "https://localhost:8080/"
    },
    "id": "4_NJkIMXpRH0",
    "outputId": "93ddafd0-8cb4-4e17-f013-2f50bc79c42f"
   },
   "outputs": [
    {
     "data": {
      "text/plain": [
       "0.7842031029619182"
      ]
     },
     "execution_count": 51,
     "metadata": {},
     "output_type": "execute_result"
    }
   ],
   "source": [
    "f1_score(y_train, y_pred_train)"
   ]
  },
  {
   "cell_type": "code",
   "execution_count": 52,
   "id": "31b31369",
   "metadata": {
    "ExecuteTime": {
     "end_time": "2022-12-03T06:37:39.358692Z",
     "start_time": "2022-12-03T06:37:39.344728Z"
    },
    "colab": {
     "base_uri": "https://localhost:8080/"
    },
    "id": "nESNRNbKV_Q7",
    "outputId": "6570b1a1-00f0-4b05-d630-f7d23fa58c3d"
   },
   "outputs": [
    {
     "data": {
      "text/plain": [
       "0.7824331145885915"
      ]
     },
     "execution_count": 52,
     "metadata": {},
     "output_type": "execute_result"
    }
   ],
   "source": [
    "f1_score(y_test, y_pred_test)"
   ]
  },
  {
   "cell_type": "markdown",
   "id": "480a7479",
   "metadata": {},
   "source": [
    "# Test Set"
   ]
  },
  {
   "cell_type": "code",
   "execution_count": 53,
   "id": "4cee5ca5",
   "metadata": {
    "ExecuteTime": {
     "end_time": "2022-12-03T06:37:39.390610Z",
     "start_time": "2022-12-03T06:37:39.360684Z"
    }
   },
   "outputs": [],
   "source": [
    "df_test=pd.read_csv(r'C:\\Users\\Prawin\\Documents\\ML PROJECT\\existing_base_test.csv')\n"
   ]
  },
  {
   "cell_type": "code",
   "execution_count": 54,
   "id": "309e6693",
   "metadata": {
    "ExecuteTime": {
     "end_time": "2022-12-03T06:37:39.437478Z",
     "start_time": "2022-12-03T06:37:39.392598Z"
    }
   },
   "outputs": [
    {
     "data": {
      "text/html": [
       "<div>\n",
       "<style scoped>\n",
       "    .dataframe tbody tr th:only-of-type {\n",
       "        vertical-align: middle;\n",
       "    }\n",
       "\n",
       "    .dataframe tbody tr th {\n",
       "        vertical-align: top;\n",
       "    }\n",
       "\n",
       "    .dataframe thead th {\n",
       "        text-align: right;\n",
       "    }\n",
       "</style>\n",
       "<table border=\"1\" class=\"dataframe\">\n",
       "  <thead>\n",
       "    <tr style=\"text-align: right;\">\n",
       "      <th></th>\n",
       "      <th>REF_NO</th>\n",
       "      <th>children</th>\n",
       "      <th>age_band</th>\n",
       "      <th>status</th>\n",
       "      <th>occupation</th>\n",
       "      <th>occupation_partner</th>\n",
       "      <th>home_status</th>\n",
       "      <th>family_income</th>\n",
       "      <th>self_employed</th>\n",
       "      <th>self_employed_partner</th>\n",
       "      <th>year_last_moved</th>\n",
       "      <th>TVarea</th>\n",
       "      <th>post_code</th>\n",
       "      <th>post_area</th>\n",
       "      <th>Average_Credit_Card_Transaction</th>\n",
       "      <th>Balance_Transfer</th>\n",
       "      <th>Term_Deposit</th>\n",
       "      <th>Life_Insurance</th>\n",
       "      <th>Medical_Insurance</th>\n",
       "      <th>Average_A/C_Balance</th>\n",
       "      <th>Personal_Loan</th>\n",
       "      <th>Investment_in_Mutual_Fund</th>\n",
       "      <th>Investment_Tax_Saving_Bond</th>\n",
       "      <th>Home_Loan</th>\n",
       "      <th>Online_Purchase_Amount</th>\n",
       "      <th>gender</th>\n",
       "      <th>region</th>\n",
       "      <th>Investment_in_Commudity</th>\n",
       "      <th>Investment_in_Equity</th>\n",
       "      <th>Investment_in_Derivative</th>\n",
       "      <th>Portfolio_Balance</th>\n",
       "    </tr>\n",
       "  </thead>\n",
       "  <tbody>\n",
       "    <tr>\n",
       "      <th>0</th>\n",
       "      <td>697</td>\n",
       "      <td>Zero</td>\n",
       "      <td>71+</td>\n",
       "      <td>Partner</td>\n",
       "      <td>Retired</td>\n",
       "      <td>Housewife</td>\n",
       "      <td>Own Home</td>\n",
       "      <td>&lt;12,500, &gt;=10,000</td>\n",
       "      <td>No</td>\n",
       "      <td>No</td>\n",
       "      <td>1973</td>\n",
       "      <td>Meridian</td>\n",
       "      <td>BH21 2JQ</td>\n",
       "      <td>BH21</td>\n",
       "      <td>41.98</td>\n",
       "      <td>55.47</td>\n",
       "      <td>24.99</td>\n",
       "      <td>29.98</td>\n",
       "      <td>49.98</td>\n",
       "      <td>44.47</td>\n",
       "      <td>0.00</td>\n",
       "      <td>45.97</td>\n",
       "      <td>0.00</td>\n",
       "      <td>0.00</td>\n",
       "      <td>0.00</td>\n",
       "      <td>Male</td>\n",
       "      <td>South West</td>\n",
       "      <td>40.48</td>\n",
       "      <td>15.07</td>\n",
       "      <td>28.40</td>\n",
       "      <td>83.05</td>\n",
       "    </tr>\n",
       "    <tr>\n",
       "      <th>1</th>\n",
       "      <td>7897</td>\n",
       "      <td>Zero</td>\n",
       "      <td>31-35</td>\n",
       "      <td>Partner</td>\n",
       "      <td>Unknown</td>\n",
       "      <td>Business Manager</td>\n",
       "      <td>Own Home</td>\n",
       "      <td>&gt;=35,000</td>\n",
       "      <td>No</td>\n",
       "      <td>No</td>\n",
       "      <td>1996</td>\n",
       "      <td>Anglia</td>\n",
       "      <td>CM6 3QS</td>\n",
       "      <td>CM6</td>\n",
       "      <td>0.00</td>\n",
       "      <td>0.00</td>\n",
       "      <td>0.00</td>\n",
       "      <td>99.91</td>\n",
       "      <td>35.42</td>\n",
       "      <td>29.49</td>\n",
       "      <td>170.31</td>\n",
       "      <td>133.88</td>\n",
       "      <td>27.45</td>\n",
       "      <td>13.47</td>\n",
       "      <td>57.46</td>\n",
       "      <td>Male</td>\n",
       "      <td>South East</td>\n",
       "      <td>27.07</td>\n",
       "      <td>72.01</td>\n",
       "      <td>82.74</td>\n",
       "      <td>235.29</td>\n",
       "    </tr>\n",
       "    <tr>\n",
       "      <th>2</th>\n",
       "      <td>4729</td>\n",
       "      <td>Zero</td>\n",
       "      <td>71+</td>\n",
       "      <td>Partner</td>\n",
       "      <td>Housewife</td>\n",
       "      <td>Retired</td>\n",
       "      <td>Own Home</td>\n",
       "      <td>&lt;15,000, &gt;=12,500</td>\n",
       "      <td>No</td>\n",
       "      <td>No</td>\n",
       "      <td>1958</td>\n",
       "      <td>HTV</td>\n",
       "      <td>BA12 9JW</td>\n",
       "      <td>BA12</td>\n",
       "      <td>0.00</td>\n",
       "      <td>154.47</td>\n",
       "      <td>0.00</td>\n",
       "      <td>67.47</td>\n",
       "      <td>0.00</td>\n",
       "      <td>87.83</td>\n",
       "      <td>0.00</td>\n",
       "      <td>107.88</td>\n",
       "      <td>0.00</td>\n",
       "      <td>0.00</td>\n",
       "      <td>0.00</td>\n",
       "      <td>Female</td>\n",
       "      <td>South West</td>\n",
       "      <td>44.39</td>\n",
       "      <td>32.62</td>\n",
       "      <td>43.86</td>\n",
       "      <td>98.38</td>\n",
       "    </tr>\n",
       "    <tr>\n",
       "      <th>3</th>\n",
       "      <td>6914</td>\n",
       "      <td>1</td>\n",
       "      <td>22-25</td>\n",
       "      <td>Partner</td>\n",
       "      <td>Other</td>\n",
       "      <td>Other</td>\n",
       "      <td>Own Home</td>\n",
       "      <td>&lt;17,500, &gt;=15,000</td>\n",
       "      <td>No</td>\n",
       "      <td>No</td>\n",
       "      <td>1993</td>\n",
       "      <td>Grampian</td>\n",
       "      <td>AB22 8SP</td>\n",
       "      <td>AB22</td>\n",
       "      <td>18.98</td>\n",
       "      <td>60.98</td>\n",
       "      <td>0.00</td>\n",
       "      <td>17.99</td>\n",
       "      <td>9.99</td>\n",
       "      <td>0.00</td>\n",
       "      <td>102.43</td>\n",
       "      <td>44.96</td>\n",
       "      <td>0.00</td>\n",
       "      <td>0.00</td>\n",
       "      <td>0.00</td>\n",
       "      <td>Female</td>\n",
       "      <td>Scotland</td>\n",
       "      <td>21.59</td>\n",
       "      <td>24.57</td>\n",
       "      <td>29.23</td>\n",
       "      <td>86.32</td>\n",
       "    </tr>\n",
       "    <tr>\n",
       "      <th>4</th>\n",
       "      <td>2795</td>\n",
       "      <td>Zero</td>\n",
       "      <td>65-70</td>\n",
       "      <td>Widowed</td>\n",
       "      <td>Retired</td>\n",
       "      <td>Unknown</td>\n",
       "      <td>Own Home</td>\n",
       "      <td>&lt; 4,000</td>\n",
       "      <td>No</td>\n",
       "      <td>No</td>\n",
       "      <td>1976</td>\n",
       "      <td>Meridian</td>\n",
       "      <td>PO37 6AD</td>\n",
       "      <td>PO37</td>\n",
       "      <td>0.00</td>\n",
       "      <td>144.90</td>\n",
       "      <td>0.00</td>\n",
       "      <td>123.38</td>\n",
       "      <td>0.00</td>\n",
       "      <td>32.98</td>\n",
       "      <td>0.00</td>\n",
       "      <td>33.96</td>\n",
       "      <td>6.99</td>\n",
       "      <td>17.93</td>\n",
       "      <td>5.45</td>\n",
       "      <td>Female</td>\n",
       "      <td>South East</td>\n",
       "      <td>53.66</td>\n",
       "      <td>16.22</td>\n",
       "      <td>32.89</td>\n",
       "      <td>102.99</td>\n",
       "    </tr>\n",
       "  </tbody>\n",
       "</table>\n",
       "</div>"
      ],
      "text/plain": [
       "   REF_NO children age_band   status occupation occupation_partner  \\\n",
       "0     697     Zero      71+  Partner    Retired          Housewife   \n",
       "1    7897     Zero    31-35  Partner    Unknown   Business Manager   \n",
       "2    4729     Zero      71+  Partner  Housewife            Retired   \n",
       "3    6914        1    22-25  Partner      Other              Other   \n",
       "4    2795     Zero    65-70  Widowed    Retired            Unknown   \n",
       "\n",
       "  home_status      family_income self_employed self_employed_partner  \\\n",
       "0    Own Home  <12,500, >=10,000            No                    No   \n",
       "1    Own Home           >=35,000            No                    No   \n",
       "2    Own Home  <15,000, >=12,500            No                    No   \n",
       "3    Own Home  <17,500, >=15,000            No                    No   \n",
       "4    Own Home            < 4,000            No                    No   \n",
       "\n",
       "   year_last_moved    TVarea post_code post_area  \\\n",
       "0             1973  Meridian  BH21 2JQ      BH21   \n",
       "1             1996    Anglia   CM6 3QS       CM6   \n",
       "2             1958       HTV  BA12 9JW      BA12   \n",
       "3             1993  Grampian  AB22 8SP      AB22   \n",
       "4             1976  Meridian  PO37 6AD      PO37   \n",
       "\n",
       "   Average_Credit_Card_Transaction  Balance_Transfer  Term_Deposit  \\\n",
       "0                            41.98             55.47         24.99   \n",
       "1                             0.00              0.00          0.00   \n",
       "2                             0.00            154.47          0.00   \n",
       "3                            18.98             60.98          0.00   \n",
       "4                             0.00            144.90          0.00   \n",
       "\n",
       "   Life_Insurance  Medical_Insurance  Average_A/C_Balance  Personal_Loan  \\\n",
       "0           29.98              49.98                44.47           0.00   \n",
       "1           99.91              35.42                29.49         170.31   \n",
       "2           67.47               0.00                87.83           0.00   \n",
       "3           17.99               9.99                 0.00         102.43   \n",
       "4          123.38               0.00                32.98           0.00   \n",
       "\n",
       "   Investment_in_Mutual_Fund  Investment_Tax_Saving_Bond  Home_Loan  \\\n",
       "0                      45.97                        0.00       0.00   \n",
       "1                     133.88                       27.45      13.47   \n",
       "2                     107.88                        0.00       0.00   \n",
       "3                      44.96                        0.00       0.00   \n",
       "4                      33.96                        6.99      17.93   \n",
       "\n",
       "   Online_Purchase_Amount  gender      region  Investment_in_Commudity  \\\n",
       "0                    0.00    Male  South West                    40.48   \n",
       "1                   57.46    Male  South East                    27.07   \n",
       "2                    0.00  Female  South West                    44.39   \n",
       "3                    0.00  Female    Scotland                    21.59   \n",
       "4                    5.45  Female  South East                    53.66   \n",
       "\n",
       "   Investment_in_Equity  Investment_in_Derivative  Portfolio_Balance  \n",
       "0                 15.07                     28.40              83.05  \n",
       "1                 72.01                     82.74             235.29  \n",
       "2                 32.62                     43.86              98.38  \n",
       "3                 24.57                     29.23              86.32  \n",
       "4                 16.22                     32.89             102.99  "
      ]
     },
     "execution_count": 54,
     "metadata": {},
     "output_type": "execute_result"
    }
   ],
   "source": [
    "df_test.head()"
   ]
  },
  {
   "cell_type": "code",
   "execution_count": 55,
   "id": "5167c46d",
   "metadata": {
    "ExecuteTime": {
     "end_time": "2022-12-03T06:37:39.452438Z",
     "start_time": "2022-12-03T06:37:39.439474Z"
    }
   },
   "outputs": [],
   "source": []
  },
  {
   "cell_type": "code",
   "execution_count": 56,
   "id": "cda3bbae",
   "metadata": {
    "ExecuteTime": {
     "end_time": "2022-12-03T06:37:39.483355Z",
     "start_time": "2022-12-03T06:37:39.454434Z"
    },
    "id": "c64ee2de"
   },
   "outputs": [],
   "source": [
    "columns_2=['age_band','status','family_income','TVarea','gender']\n",
    "for y in columns_2:\n",
    "    z=str(df_test[y].mode())\n",
    "    df_test[y]=df_test[y].str.replace('Unknown',z)\n"
   ]
  },
  {
   "cell_type": "code",
   "execution_count": 57,
   "id": "7cbb809b",
   "metadata": {
    "ExecuteTime": {
     "end_time": "2022-12-03T06:37:39.498316Z",
     "start_time": "2022-12-03T06:37:39.485351Z"
    }
   },
   "outputs": [],
   "source": [
    "columns = df_test.columns"
   ]
  },
  {
   "cell_type": "code",
   "execution_count": 58,
   "id": "2dae23f5",
   "metadata": {
    "ExecuteTime": {
     "end_time": "2022-12-03T06:37:39.545215Z",
     "start_time": "2022-12-03T06:37:39.499313Z"
    },
    "colab": {
     "base_uri": "https://localhost:8080/"
    },
    "id": "fEDXV1TC1CRP",
    "outputId": "4cc320cf-d0ed-4d61-b079-ffcf6bc3ccc2"
   },
   "outputs": [
    {
     "name": "stdout",
     "output_type": "stream",
     "text": [
      "Column is: occupation\n",
      "118\n",
      "Column is: occupation_partner\n",
      "452\n",
      "Column is: region\n",
      "214\n"
     ]
    }
   ],
   "source": [
    "for z in columns:\n",
    "    if df_test[df_test[z]=='Unknown'][z].count() !=0:\n",
    "        print('Column is:',z)\n",
    "        print(df_test[df_test[z]=='Unknown'][z].count())"
   ]
  },
  {
   "cell_type": "code",
   "execution_count": 59,
   "id": "1e73b8ec",
   "metadata": {
    "ExecuteTime": {
     "end_time": "2022-12-03T06:37:39.561218Z",
     "start_time": "2022-12-03T06:37:39.546214Z"
    },
    "id": "b3867133"
   },
   "outputs": [],
   "source": [
    "retired_age_band=['61-65','65-70','71+']"
   ]
  },
  {
   "cell_type": "code",
   "execution_count": 60,
   "id": "7a4d772a",
   "metadata": {
    "ExecuteTime": {
     "end_time": "2022-12-03T06:37:39.577174Z",
     "start_time": "2022-12-03T06:37:39.563213Z"
    },
    "id": "9cFWHlrmHdnp"
   },
   "outputs": [],
   "source": [
    "df_test.loc[(df_test['occupation']=='Unknown') & (df_test['age_band'].isin(retired_age_band)), 'occupation']='Retired'\n",
    "df_test.loc[(df_test['occupation']=='Unknown'), 'occupation']='Professional'\n",
    "df_test.loc[(df_test['occupation_partner']=='Unknown') & (df_test['age_band'].isin(retired_age_band)), 'occupation_partner']='Retired'\n",
    "df_test.loc[(df_test['occupation_partner']=='Unknown'), 'occupation_partner']='Professional'"
   ]
  },
  {
   "cell_type": "code",
   "execution_count": 61,
   "id": "cec28f83",
   "metadata": {
    "ExecuteTime": {
     "end_time": "2022-12-03T06:37:39.592173Z",
     "start_time": "2022-12-03T06:37:39.579170Z"
    },
    "colab": {
     "base_uri": "https://localhost:8080/"
    },
    "id": "TUZUC6rBR7UY",
    "outputId": "7e7ec191-6964-48b2-d0f2-dd5818613ac7"
   },
   "outputs": [
    {
     "data": {
      "text/plain": [
       "45-50                        261\n",
       "36-40                        239\n",
       "31-35                        221\n",
       "51-55                        219\n",
       "41-45                        209\n",
       "26-30                        192\n",
       "55-60                        182\n",
       "61-65                        181\n",
       "65-70                        130\n",
       "22-25                        100\n",
       "71+                           73\n",
       "18-21                         13\n",
       "0    45-50\\ndtype: object     11\n",
       "Name: age_band, dtype: int64"
      ]
     },
     "execution_count": 61,
     "metadata": {},
     "output_type": "execute_result"
    }
   ],
   "source": [
    "df_test['age_band'].value_counts()"
   ]
  },
  {
   "cell_type": "code",
   "execution_count": 62,
   "id": "ace08ca8",
   "metadata": {
    "ExecuteTime": {
     "end_time": "2022-12-03T06:37:39.608091Z",
     "start_time": "2022-12-03T06:37:39.594131Z"
    },
    "id": "oYdxc9wxUbk9"
   },
   "outputs": [],
   "source": [
    "df_test['age_band'] = df_test['age_band'].str.replace('0    45-50\\ndtype: object','45-50')"
   ]
  },
  {
   "cell_type": "markdown",
   "id": "1de9fc53",
   "metadata": {},
   "source": [
    "# Converting columns to comparable forms"
   ]
  },
  {
   "cell_type": "code",
   "execution_count": 63,
   "id": "t9v29NSyVHRD",
   "metadata": {
    "ExecuteTime": {
     "end_time": "2022-12-03T06:37:39.639009Z",
     "start_time": "2022-12-03T06:37:39.610087Z"
    },
    "id": "t9v29NSyVHRD"
   },
   "outputs": [],
   "source": [
    "df_test['age_band'] = df_test['age_band'].str.replace('45-50','50',regex=False)\n",
    "df_test['age_band'] = df_test['age_band'].str.replace('41-45','45',regex=False)\n",
    "df_test['age_band'] = df_test['age_band'].str.replace('36-40','40',regex=False)\n",
    "df_test['age_band'] = df_test['age_band'].str.replace('55-60','60',regex=False)\n",
    "df_test['age_band'] = df_test['age_band'].str.replace('31-35','35',regex=False)\n",
    "df_test['age_band'] = df_test['age_band'].str.replace('51-55','55',regex=False)\n",
    "df_test['age_band'] = df_test['age_band'].str.replace('26-30','30',regex=False)\n",
    "df_test['age_band'] = df_test['age_band'].str.replace('61-65','65',regex=False)\n",
    "df_test['age_band'] = df_test['age_band'].str.replace('65-70','70',regex=False)\n",
    "df_test['age_band'] = df_test['age_band'].str.replace('22-25','25',regex=False)\n",
    "df_test['age_band'] = df_test['age_band'].str.replace('71+','71',regex=False)\n",
    "df_test['age_band'] = df_test['age_band'].str.replace('18-21','21',regex=False)\n",
    "\n"
   ]
  },
  {
   "cell_type": "code",
   "execution_count": 64,
   "id": "VwIn4OfGVSoC",
   "metadata": {
    "ExecuteTime": {
     "end_time": "2022-12-03T06:37:39.654574Z",
     "start_time": "2022-12-03T06:37:39.641005Z"
    },
    "id": "VwIn4OfGVSoC"
   },
   "outputs": [],
   "source": [
    "df_test[['age_band']] =df_test[['age_band']].apply(pd.to_numeric)"
   ]
  },
  {
   "cell_type": "code",
   "execution_count": 65,
   "id": "IP62HqBkbkzH",
   "metadata": {
    "ExecuteTime": {
     "end_time": "2022-12-03T06:37:39.670521Z",
     "start_time": "2022-12-03T06:37:39.656564Z"
    },
    "colab": {
     "base_uri": "https://localhost:8080/"
    },
    "id": "IP62HqBkbkzH",
    "outputId": "709abe8d-8e6c-4bf7-91e6-babef1b12bc3"
   },
   "outputs": [
    {
     "data": {
      "text/plain": [
       "array(['<12,500, >=10,000', '>=35,000', '<15,000, >=12,500',\n",
       "       '<17,500, >=15,000', '< 4,000', '<22,500, >=20,000',\n",
       "       '<20,000, >=17,500', '<10,000, >= 8,000',\n",
       "       '0    >=35,000\\ndtype: object', '<30,000, >=27,500',\n",
       "       '< 8,000, >= 4,000', '<27,500, >=25,000', '<25,000, >=22,500'],\n",
       "      dtype=object)"
      ]
     },
     "execution_count": 65,
     "metadata": {},
     "output_type": "execute_result"
    }
   ],
   "source": [
    "df_test['family_income'].unique()"
   ]
  },
  {
   "cell_type": "code",
   "execution_count": 66,
   "id": "pIAiJr5tcbnf",
   "metadata": {
    "ExecuteTime": {
     "end_time": "2022-12-03T06:37:39.685875Z",
     "start_time": "2022-12-03T06:37:39.672530Z"
    },
    "id": "pIAiJr5tcbnf"
   },
   "outputs": [],
   "source": [
    "salary_1=['<22,500, >=20,000', '<25,000, >=22,500','<30,000, >=27,500', '<20,000, >=17,500', '<27,500, >=25,000','< 4,000', '<15,000, >=12,500', '<17,500, >=15,000',\n",
    "       '< 8,000, >= 4,000', '<12,500, >=10,000', '<10,000, >= 8,000']"
   ]
  },
  {
   "cell_type": "code",
   "execution_count": 67,
   "id": "GHQW_3lZLeqS",
   "metadata": {
    "ExecuteTime": {
     "end_time": "2022-12-03T06:37:39.717274Z",
     "start_time": "2022-12-03T06:37:39.687648Z"
    },
    "id": "GHQW_3lZLeqS"
   },
   "outputs": [],
   "source": [
    "df_test['family_income'] = df_test['family_income'].str.replace('>=35,000','35000',regex=False)\n",
    "df_test['family_income'] = df_test['family_income'].str.replace('<22,500, >=20,000','22500',regex=False)\n",
    "df_test['family_income'] = df_test['family_income'].str.replace('<25,000, >=22,500','25000',regex=False)\n",
    "df_test['family_income'] = df_test['family_income'].str.replace('<30,000, >=27,500','30000',regex=False)\n",
    "df_test['family_income'] = df_test['family_income'].str.replace('<20,000, >=17,500','20000',regex=False)\n",
    "df_test['family_income'] = df_test['family_income'].str.replace('<27,500, >=25,000','27500',regex=False)\n",
    "df_test['family_income'] = df_test['family_income'].str.replace('< 4,000','4000',regex=False)\n",
    "df_test['family_income'] = df_test['family_income'].str.replace('<15,000, >=12,500','15000',regex=False)\n",
    "df_test['family_income'] = df_test['family_income'].str.replace('<17,500, >=15,000','17500',regex=False)\n",
    "df_test['family_income'] = df_test['family_income'].str.replace('< 8,000, >= 4,000','8000',regex=False)\n",
    "df_test['family_income'] = df_test['family_income'].str.replace('<12,500, >=10,000','12500',regex=False)\n",
    "df_test['family_income'] = df_test['family_income'].str.replace('<10,000, >= 8,000','10000',regex=False)\n",
    "df_test['family_income'] = df_test['family_income'].str.replace('0    35000\\ndtype: object','35000',regex=False)\n",
    "\n"
   ]
  },
  {
   "cell_type": "code",
   "execution_count": 68,
   "id": "nW-sThZUOl_S",
   "metadata": {
    "ExecuteTime": {
     "end_time": "2022-12-03T06:37:39.733005Z",
     "start_time": "2022-12-03T06:37:39.719253Z"
    },
    "id": "nW-sThZUOl_S"
   },
   "outputs": [],
   "source": [
    "df_test[['family_income']] = df_test[['family_income']].apply(pd.to_numeric)\n"
   ]
  },
  {
   "cell_type": "code",
   "execution_count": 69,
   "id": "mDHs6PlVP8Qb",
   "metadata": {
    "ExecuteTime": {
     "end_time": "2022-12-03T06:37:39.764372Z",
     "start_time": "2022-12-03T06:37:39.734778Z"
    },
    "id": "mDHs6PlVP8Qb"
   },
   "outputs": [],
   "source": [
    "df_test['status'] = df_test['status'].str.replace('0    Partner\\ndtype: object','Partner',regex=False)\n",
    "df_test['gender'] = df_test['gender'].str.replace('0    Female\\ndtype: object','Female',regex=False)"
   ]
  },
  {
   "cell_type": "markdown",
   "id": "3b0acfac",
   "metadata": {},
   "source": [
    "# Merging columns"
   ]
  },
  {
   "cell_type": "code",
   "execution_count": 70,
   "id": "t8FWKmTwGB5f",
   "metadata": {
    "ExecuteTime": {
     "end_time": "2022-12-03T06:37:43.738845Z",
     "start_time": "2022-12-03T06:37:43.716144Z"
    },
    "id": "t8FWKmTwGB5f"
   },
   "outputs": [],
   "source": [
    "df_test['investments']=df_test['Investment_in_Mutual_Fund']+df_test['Investment_Tax_Saving_Bond']+df_test['Investment_in_Commudity']+df_test['Investment_in_Equity']+df_test['Investment_in_Derivative']+df_test['Term_Deposit']\n",
    "df_test['spending']=df_test['Balance_Transfer']+df_test['Online_Purchase_Amount']\n",
    "df_test['loans']=df_test['Personal_Loan']+df_test['Home_Loan']\n",
    "df_test['insurance']=df_test['Life_Insurance']+df_test['Medical_Insurance']"
   ]
  },
  {
   "cell_type": "code",
   "execution_count": 71,
   "id": "DlEj0g8UHgvs",
   "metadata": {
    "ExecuteTime": {
     "end_time": "2022-12-03T06:38:09.236013Z",
     "start_time": "2022-12-03T06:38:09.213074Z"
    },
    "id": "DlEj0g8UHgvs"
   },
   "outputs": [],
   "source": [
    "df_test.drop(columns=['Life_Insurance','Medical_Insurance','Personal_Loan','Investment_in_Mutual_Fund','Investment_Tax_Saving_Bond','Home_Loan','Investment_in_Commudity','Investment_in_Equity','Investment_in_Derivative','Term_Deposit','Balance_Transfer','Online_Purchase_Amount','post_area','region'],inplace=True)\n",
    "df_test.drop(columns=['post_code','REF_NO'],inplace=True)\n",
    "df_test.drop(['year_last_moved','children','TVarea'],inplace=True,axis=1)"
   ]
  },
  {
   "cell_type": "code",
   "execution_count": 73,
   "id": "9l7C7T7BXVjd",
   "metadata": {
    "ExecuteTime": {
     "end_time": "2022-12-03T06:38:25.705013Z",
     "start_time": "2022-12-03T06:38:25.697038Z"
    },
    "id": "9l7C7T7BXVjd"
   },
   "outputs": [],
   "source": [
    "cat_cols =list(['status', 'occupation', 'occupation_partner', 'home_status',\n",
    "       'self_employed', 'self_employed_partner', 'gender',\n",
    "       ])"
   ]
  },
  {
   "cell_type": "code",
   "execution_count": 74,
   "id": "_2l_-PFfB6VW",
   "metadata": {
    "ExecuteTime": {
     "end_time": "2022-12-03T06:38:29.263513Z",
     "start_time": "2022-12-03T06:38:29.247525Z"
    },
    "colab": {
     "base_uri": "https://localhost:8080/"
    },
    "id": "_2l_-PFfB6VW",
    "outputId": "67a3f2eb-16c1-42b4-d16b-c8b6e77256ca"
   },
   "outputs": [
    {
     "name": "stdout",
     "output_type": "stream",
     "text": [
      "Partner                 1593\n",
      "Single/Never Married     220\n",
      "Divorced/Separated       110\n",
      "Widowed                  108\n",
      "Name: status, dtype: int64\n",
      "======================================================================\n",
      "Professional         597\n",
      "Retired              428\n",
      "Secretarial/Admin    362\n",
      "Housewife            271\n",
      "Business Manager     154\n",
      "Other                105\n",
      "Manual Worker        105\n",
      "Student                9\n",
      "Name: occupation, dtype: int64\n",
      "======================================================================\n",
      "Professional         784\n",
      "Retired              477\n",
      "Manual Worker        286\n",
      "Business Manager     162\n",
      "Secretarial/Admin    152\n",
      "Housewife            105\n",
      "Other                 63\n",
      "Student                2\n",
      "Name: occupation_partner, dtype: int64\n",
      "======================================================================\n",
      "Own Home                1907\n",
      "Rent Privately            56\n",
      "Rent from Council/HA      43\n",
      "Live in Parental Hom      19\n",
      "Unclassified               6\n",
      "Name: home_status, dtype: int64\n",
      "======================================================================\n",
      "No     1893\n",
      "Yes     138\n",
      "Name: self_employed, dtype: int64\n",
      "======================================================================\n",
      "No     1819\n",
      "Yes     212\n",
      "Name: self_employed_partner, dtype: int64\n",
      "======================================================================\n",
      "Female    1532\n",
      "Male       499\n",
      "Name: gender, dtype: int64\n",
      "======================================================================\n"
     ]
    }
   ],
   "source": [
    "for c in cat_cols:\n",
    "    print(df_test[c].value_counts())\n",
    "    print('='*70)"
   ]
  },
  {
   "cell_type": "markdown",
   "id": "gqfOldJCEpAi",
   "metadata": {
    "id": "gqfOldJCEpAi"
   },
   "source": [
    "# Label encoding for all the categorical columns"
   ]
  },
  {
   "cell_type": "code",
   "execution_count": 76,
   "id": "nlQ0bhFvEnER",
   "metadata": {
    "ExecuteTime": {
     "end_time": "2022-12-03T06:38:52.836699Z",
     "start_time": "2022-12-03T06:38:52.822710Z"
    },
    "id": "nlQ0bhFvEnER"
   },
   "outputs": [],
   "source": [
    "from sklearn import preprocessing\n",
    "le = preprocessing.LabelEncoder()\n",
    "\n",
    "for x in cat_cols:\n",
    "    df_test[x] = le.fit_transform(df_test[x].astype(str))\n",
    "  "
   ]
  },
  {
   "cell_type": "markdown",
   "id": "TMCWbMDKdGHX",
   "metadata": {
    "id": "TMCWbMDKdGHX"
   },
   "source": [
    "# Skewness of columns"
   ]
  },
  {
   "cell_type": "code",
   "execution_count": 77,
   "id": "4be2ef3a",
   "metadata": {
    "ExecuteTime": {
     "end_time": "2022-12-03T06:38:57.764880Z",
     "start_time": "2022-12-03T06:38:57.751915Z"
    }
   },
   "outputs": [
    {
     "data": {
      "text/plain": [
       "2.2822729073837533"
      ]
     },
     "execution_count": 77,
     "metadata": {},
     "output_type": "execute_result"
    }
   ],
   "source": [
    "df_test['Portfolio_Balance'].skew(axis=0)"
   ]
  },
  {
   "cell_type": "code",
   "execution_count": 80,
   "id": "c64620a1",
   "metadata": {
    "ExecuteTime": {
     "end_time": "2022-12-03T06:39:28.979113Z",
     "start_time": "2022-12-03T06:39:28.959149Z"
    }
   },
   "outputs": [],
   "source": [
    "df_test['Portfolio_Balance']=np.log(x_main['Portfolio_Balance']+75)"
   ]
  },
  {
   "cell_type": "code",
   "execution_count": 81,
   "id": "f71094f0",
   "metadata": {
    "ExecuteTime": {
     "end_time": "2022-12-03T06:39:32.645772Z",
     "start_time": "2022-12-03T06:39:32.624829Z"
    }
   },
   "outputs": [
    {
     "data": {
      "text/plain": [
       "-0.581301253856483"
      ]
     },
     "execution_count": 81,
     "metadata": {},
     "output_type": "execute_result"
    }
   ],
   "source": [
    "df_test['Portfolio_Balance'].skew(axis=0)"
   ]
  },
  {
   "cell_type": "code",
   "execution_count": 83,
   "id": "9f756667",
   "metadata": {
    "ExecuteTime": {
     "end_time": "2022-12-03T06:40:14.304864Z",
     "start_time": "2022-12-03T06:40:14.285914Z"
    }
   },
   "outputs": [],
   "source": [
    "num_cols=['age_band','family_income','Average_Credit_Card_Transaction','Average_A/C_Balance','investments','spending','loans','insurance']    \n",
    "skew_values=dict()\n",
    "for x in num_cols:\n",
    "    skew_values[x]=df_test[x].skew(axis=0)\n",
    "        "
   ]
  },
  {
   "cell_type": "code",
   "execution_count": 84,
   "id": "84508c4e",
   "metadata": {
    "ExecuteTime": {
     "end_time": "2022-12-03T06:40:19.496250Z",
     "start_time": "2022-12-03T06:40:19.476330Z"
    }
   },
   "outputs": [
    {
     "name": "stdout",
     "output_type": "stream",
     "text": [
      "{'Average_A/C_Balance': 3.10111540313058,\n",
      " 'Average_Credit_Card_Transaction': 3.0094887588632147,\n",
      " 'age_band': 0.03023524205110807,\n",
      " 'family_income': -0.3878004799450284,\n",
      " 'insurance': 2.398437196941068,\n",
      " 'investments': 2.2380416827993974,\n",
      " 'loans': 8.48771842812439,\n",
      " 'spending': 5.212415420689805}\n"
     ]
    }
   ],
   "source": [
    "pprint(skew_values)"
   ]
  },
  {
   "cell_type": "code",
   "execution_count": 85,
   "id": "4a7a05c9",
   "metadata": {
    "ExecuteTime": {
     "end_time": "2022-12-03T06:40:26.501520Z",
     "start_time": "2022-12-03T06:40:26.489571Z"
    }
   },
   "outputs": [],
   "source": [
    "for x in list(skew_values):\n",
    "    if skew_values[x]>-0.5 and skew_values[x]<0.5:\n",
    "        del skew_values[x]"
   ]
  },
  {
   "cell_type": "code",
   "execution_count": 86,
   "id": "deabe4da",
   "metadata": {
    "ExecuteTime": {
     "end_time": "2022-12-03T06:40:29.141320Z",
     "start_time": "2022-12-03T06:40:29.123369Z"
    }
   },
   "outputs": [
    {
     "name": "stdout",
     "output_type": "stream",
     "text": [
      "{'Average_A/C_Balance': 3.10111540313058,\n",
      " 'Average_Credit_Card_Transaction': 3.0094887588632147,\n",
      " 'insurance': 2.398437196941068,\n",
      " 'investments': 2.2380416827993974,\n",
      " 'loans': 8.48771842812439,\n",
      " 'spending': 5.212415420689805}\n"
     ]
    }
   ],
   "source": [
    "pprint(skew_values)"
   ]
  },
  {
   "cell_type": "code",
   "execution_count": 87,
   "id": "n_fPOkUFOGu8",
   "metadata": {
    "ExecuteTime": {
     "end_time": "2022-12-03T06:40:45.733183Z",
     "start_time": "2022-12-03T06:40:45.719218Z"
    },
    "id": "n_fPOkUFOGu8"
   },
   "outputs": [],
   "source": [
    "## Log transformation \n",
    "\n",
    "for z in skew_values:\n",
    "    df_test[z]=np.log(df_test[z]+1)\n"
   ]
  },
  {
   "cell_type": "code",
   "execution_count": 88,
   "id": "00628a1d",
   "metadata": {
    "ExecuteTime": {
     "end_time": "2022-12-03T06:40:56.577697Z",
     "start_time": "2022-12-03T06:40:56.565747Z"
    }
   },
   "outputs": [
    {
     "name": "stdout",
     "output_type": "stream",
     "text": [
      "{'Average_Credit_Card_Transaction': 0.7353908273079943,\n",
      " 'insurance': -0.8394559794837861,\n",
      " 'investments': -1.0395670276086433}\n"
     ]
    }
   ],
   "source": [
    "skew_values_2=dict()\n",
    "for x in num_cols:\n",
    "    skew_values_2[x]=df_test[x].skew(axis=0)\n",
    "for x in list(skew_values_2):\n",
    "    if skew_values_2[x]>-0.5 and skew_values_2[x]<0.5:\n",
    "        del skew_values_2[x]\n",
    "pprint(skew_values_2)"
   ]
  },
  {
   "cell_type": "code",
   "execution_count": 89,
   "id": "6a6ee56b",
   "metadata": {
    "ExecuteTime": {
     "end_time": "2022-12-03T06:41:06.200914Z",
     "start_time": "2022-12-03T06:41:06.185956Z"
    }
   },
   "outputs": [],
   "source": [
    "### box cox transformation \n",
    "\n",
    "for z in skew_values_2:\n",
    "    df_test[z],_=stats.boxcox(df_test[z]+1)"
   ]
  },
  {
   "cell_type": "code",
   "execution_count": 90,
   "id": "3a10110a",
   "metadata": {
    "ExecuteTime": {
     "end_time": "2022-12-03T06:41:12.531656Z",
     "start_time": "2022-12-03T06:41:12.516702Z"
    }
   },
   "outputs": [
    {
     "name": "stdout",
     "output_type": "stream",
     "text": [
      "{}\n"
     ]
    }
   ],
   "source": [
    "skew_values_2=dict()\n",
    "for x in num_cols:\n",
    "    skew_values_2[x]=df_test[x].skew(axis=0)\n",
    "for x in list(skew_values_2):\n",
    "    if skew_values_2[x]>-0.5 and skew_values_2[x]<0.5:\n",
    "        del skew_values_2[x]\n",
    "pprint(skew_values_2)"
   ]
  },
  {
   "cell_type": "markdown",
   "id": "71f944ee",
   "metadata": {
    "id": "D8SdtiRFM-k1"
   },
   "source": [
    "# Train Test Split-Model"
   ]
  },
  {
   "cell_type": "code",
   "execution_count": 93,
   "id": "d8HlXskLKkUS",
   "metadata": {
    "ExecuteTime": {
     "end_time": "2022-12-03T06:45:58.274363Z",
     "start_time": "2022-12-03T06:45:58.254415Z"
    },
    "id": "d8HlXskLKkUS"
   },
   "outputs": [],
   "source": [
    "\n",
    "from sklearn.preprocessing import MinMaxScaler\n",
    "mms=MinMaxScaler()\n",
    "df_test[num_cols]=mms.fit_transform(df_test[num_cols])\n",
    "df_test[num_cols]=mms.fit_transform(df_test[num_cols])"
   ]
  },
  {
   "cell_type": "code",
   "execution_count": 49,
   "id": "78038d1c",
   "metadata": {
    "ExecuteTime": {
     "end_time": "2022-12-03T06:37:39.312813Z",
     "start_time": "2022-12-03T06:37:39.298852Z"
    }
   },
   "outputs": [],
   "source": [
    "from sklearn.metrics import f1_score"
   ]
  },
  {
   "cell_type": "code",
   "execution_count": 100,
   "id": "3-lG_D1xORRZ",
   "metadata": {
    "ExecuteTime": {
     "end_time": "2022-12-03T06:57:53.703184Z",
     "start_time": "2022-12-03T06:57:53.694208Z"
    },
    "id": "3-lG_D1xORRZ"
   },
   "outputs": [],
   "source": [
    "submission=pd.DataFrame(logreg2.predict(df_test))\n"
   ]
  },
  {
   "cell_type": "code",
   "execution_count": 101,
   "id": "edcbb442",
   "metadata": {
    "ExecuteTime": {
     "end_time": "2022-12-03T06:57:55.054297Z",
     "start_time": "2022-12-03T06:57:55.038340Z"
    }
   },
   "outputs": [
    {
     "data": {
      "text/plain": [
       "(2031, 1)"
      ]
     },
     "execution_count": 101,
     "metadata": {},
     "output_type": "execute_result"
    }
   ],
   "source": [
    "submission.shape"
   ]
  },
  {
   "cell_type": "code",
   "execution_count": 104,
   "id": "c13cd5fe",
   "metadata": {
    "ExecuteTime": {
     "end_time": "2022-12-03T07:00:27.106173Z",
     "start_time": "2022-12-03T07:00:27.066824Z"
    }
   },
   "outputs": [],
   "source": [
    "to_delete=pd.read_csv(r'C:\\Users\\Prawin\\Documents\\ML PROJECT\\existing_base_test.csv')"
   ]
  },
  {
   "cell_type": "code",
   "execution_count": 105,
   "id": "22b1af26",
   "metadata": {
    "ExecuteTime": {
     "end_time": "2022-12-03T07:00:32.408151Z",
     "start_time": "2022-12-03T07:00:32.390200Z"
    }
   },
   "outputs": [],
   "source": [
    "submission['REF_NO']=to_delete['REF_NO']"
   ]
  },
  {
   "cell_type": "code",
   "execution_count": 107,
   "id": "1886fc73",
   "metadata": {
    "ExecuteTime": {
     "end_time": "2022-12-03T07:01:22.311588Z",
     "start_time": "2022-12-03T07:01:22.299583Z"
    }
   },
   "outputs": [],
   "source": [
    "submission=submission.iloc[:,[1,0]]\n"
   ]
  },
  {
   "cell_type": "code",
   "execution_count": 108,
   "id": "6f9c258d",
   "metadata": {
    "ExecuteTime": {
     "end_time": "2022-12-03T07:01:27.214122Z",
     "start_time": "2022-12-03T07:01:27.195171Z"
    }
   },
   "outputs": [
    {
     "data": {
      "text/html": [
       "<div>\n",
       "<style scoped>\n",
       "    .dataframe tbody tr th:only-of-type {\n",
       "        vertical-align: middle;\n",
       "    }\n",
       "\n",
       "    .dataframe tbody tr th {\n",
       "        vertical-align: top;\n",
       "    }\n",
       "\n",
       "    .dataframe thead th {\n",
       "        text-align: right;\n",
       "    }\n",
       "</style>\n",
       "<table border=\"1\" class=\"dataframe\">\n",
       "  <thead>\n",
       "    <tr style=\"text-align: right;\">\n",
       "      <th></th>\n",
       "      <th>REF_NO</th>\n",
       "      <th>0</th>\n",
       "    </tr>\n",
       "  </thead>\n",
       "  <tbody>\n",
       "    <tr>\n",
       "      <th>0</th>\n",
       "      <td>697</td>\n",
       "      <td>1</td>\n",
       "    </tr>\n",
       "    <tr>\n",
       "      <th>1</th>\n",
       "      <td>7897</td>\n",
       "      <td>2</td>\n",
       "    </tr>\n",
       "    <tr>\n",
       "      <th>2</th>\n",
       "      <td>4729</td>\n",
       "      <td>1</td>\n",
       "    </tr>\n",
       "    <tr>\n",
       "      <th>3</th>\n",
       "      <td>6914</td>\n",
       "      <td>1</td>\n",
       "    </tr>\n",
       "    <tr>\n",
       "      <th>4</th>\n",
       "      <td>2795</td>\n",
       "      <td>2</td>\n",
       "    </tr>\n",
       "    <tr>\n",
       "      <th>...</th>\n",
       "      <td>...</td>\n",
       "      <td>...</td>\n",
       "    </tr>\n",
       "    <tr>\n",
       "      <th>2026</th>\n",
       "      <td>4952</td>\n",
       "      <td>2</td>\n",
       "    </tr>\n",
       "    <tr>\n",
       "      <th>2027</th>\n",
       "      <td>7348</td>\n",
       "      <td>1</td>\n",
       "    </tr>\n",
       "    <tr>\n",
       "      <th>2028</th>\n",
       "      <td>3903</td>\n",
       "      <td>2</td>\n",
       "    </tr>\n",
       "    <tr>\n",
       "      <th>2029</th>\n",
       "      <td>4767</td>\n",
       "      <td>1</td>\n",
       "    </tr>\n",
       "    <tr>\n",
       "      <th>2030</th>\n",
       "      <td>5208</td>\n",
       "      <td>2</td>\n",
       "    </tr>\n",
       "  </tbody>\n",
       "</table>\n",
       "<p>2031 rows × 2 columns</p>\n",
       "</div>"
      ],
      "text/plain": [
       "      REF_NO  0\n",
       "0        697  1\n",
       "1       7897  2\n",
       "2       4729  1\n",
       "3       6914  1\n",
       "4       2795  2\n",
       "...      ... ..\n",
       "2026    4952  2\n",
       "2027    7348  1\n",
       "2028    3903  2\n",
       "2029    4767  1\n",
       "2030    5208  2\n",
       "\n",
       "[2031 rows x 2 columns]"
      ]
     },
     "execution_count": 108,
     "metadata": {},
     "output_type": "execute_result"
    }
   ],
   "source": [
    "submission"
   ]
  },
  {
   "cell_type": "code",
   "execution_count": 110,
   "id": "59e1ffd3",
   "metadata": {
    "ExecuteTime": {
     "end_time": "2022-12-03T07:04:20.022362Z",
     "start_time": "2022-12-03T07:04:20.008377Z"
    }
   },
   "outputs": [],
   "source": [
    "submission.to_csv(r'submission.csv', index=False, header=False)"
   ]
  }
 ],
 "metadata": {
  "colab": {
   "provenance": []
  },
  "kernelspec": {
   "display_name": "Python 3 (ipykernel)",
   "language": "python",
   "name": "python3"
  },
  "language_info": {
   "codemirror_mode": {
    "name": "ipython",
    "version": 3
   },
   "file_extension": ".py",
   "mimetype": "text/x-python",
   "name": "python",
   "nbconvert_exporter": "python",
   "pygments_lexer": "ipython3",
   "version": "3.9.7"
  }
 },
 "nbformat": 4,
 "nbformat_minor": 5
}
